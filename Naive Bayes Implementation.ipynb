{
 "cells": [
  {
   "cell_type": "code",
   "execution_count": 1,
   "id": "32f22981-7933-4fe9-becb-37f7965adcaa",
   "metadata": {},
   "outputs": [],
   "source": [
    "import pandas as pd\n",
    "import numpy as np\n",
    "import matplotlib.pyplot as plt\n",
    "from sklearn.naive_bayes import MultinomialNB\n",
    "from sklearn.feature_extraction.text import CountVectorizer\n",
    "from sklearn.model_selection import train_test_split\n",
    "from sklearn.metrics import accuracy_score, confusion_matrix, classification_report\n",
    "import warnings\n",
    "warnings.filterwarnings(\"ignore\")"
   ]
  },
  {
   "cell_type": "code",
   "execution_count": 2,
   "id": "076f93d2-8478-47b7-ad21-b6136fbf369a",
   "metadata": {},
   "outputs": [],
   "source": [
    "df = pd.read_csv(\"email.csv\", sep=\"|\")"
   ]
  },
  {
   "cell_type": "code",
   "execution_count": 3,
   "id": "118eb429-cd2e-4030-a0d3-892eed68341a",
   "metadata": {},
   "outputs": [
    {
     "data": {
      "text/html": [
       "<div>\n",
       "<style scoped>\n",
       "    .dataframe tbody tr th:only-of-type {\n",
       "        vertical-align: middle;\n",
       "    }\n",
       "\n",
       "    .dataframe tbody tr th {\n",
       "        vertical-align: top;\n",
       "    }\n",
       "\n",
       "    .dataframe thead th {\n",
       "        text-align: right;\n",
       "    }\n",
       "</style>\n",
       "<table border=\"1\" class=\"dataframe\">\n",
       "  <thead>\n",
       "    <tr style=\"text-align: right;\">\n",
       "      <th></th>\n",
       "      <th>Unnamed: 0</th>\n",
       "      <th>Email Subject</th>\n",
       "      <th>Email Body</th>\n",
       "      <th>Label</th>\n",
       "      <th>Unnamed: 4</th>\n",
       "    </tr>\n",
       "  </thead>\n",
       "  <tbody>\n",
       "    <tr>\n",
       "      <th>0</th>\n",
       "      <td>NaN</td>\n",
       "      <td>------------------------------------------------</td>\n",
       "      <td>----------------------------------------------...</td>\n",
       "      <td>----------</td>\n",
       "      <td>NaN</td>\n",
       "    </tr>\n",
       "    <tr>\n",
       "      <th>1</th>\n",
       "      <td>NaN</td>\n",
       "      <td>Urgent: Claim Your Prize Now!</td>\n",
       "      <td>Congratulations! You've won a million dollars...</td>\n",
       "      <td>Spam</td>\n",
       "      <td>NaN</td>\n",
       "    </tr>\n",
       "    <tr>\n",
       "      <th>2</th>\n",
       "      <td>NaN</td>\n",
       "      <td>Invitation to the Annual Conference</td>\n",
       "      <td>Dear valued member, You're invited to attend ...</td>\n",
       "      <td>Not Spam</td>\n",
       "      <td>NaN</td>\n",
       "    </tr>\n",
       "    <tr>\n",
       "      <th>3</th>\n",
       "      <td>NaN</td>\n",
       "      <td>Exclusive Offer: 50% Off Today Only</td>\n",
       "      <td>Limited time offer! Get 50% off on selected i...</td>\n",
       "      <td>Spam</td>\n",
       "      <td>NaN</td>\n",
       "    </tr>\n",
       "    <tr>\n",
       "      <th>4</th>\n",
       "      <td>NaN</td>\n",
       "      <td>Reminder: Your Appointment Tomorrow</td>\n",
       "      <td>Just a friendly reminder that you have an app...</td>\n",
       "      <td>Not Spam</td>\n",
       "      <td>NaN</td>\n",
       "    </tr>\n",
       "  </tbody>\n",
       "</table>\n",
       "</div>"
      ],
      "text/plain": [
       "   Unnamed: 0  Email Subject                                     \\\n",
       "0         NaN  ------------------------------------------------   \n",
       "1         NaN   Urgent: Claim Your Prize Now!                     \n",
       "2         NaN   Invitation to the Annual Conference               \n",
       "3         NaN   Exclusive Offer: 50% Off Today Only               \n",
       "4         NaN   Reminder: Your Appointment Tomorrow               \n",
       "\n",
       "   Email Body                                                                        \\\n",
       "0  ----------------------------------------------...                                  \n",
       "1   Congratulations! You've won a million dollars...                                  \n",
       "2   Dear valued member, You're invited to attend ...                                  \n",
       "3   Limited time offer! Get 50% off on selected i...                                  \n",
       "4   Just a friendly reminder that you have an app...                                  \n",
       "\n",
       "    Label      Unnamed: 4  \n",
       "0  ----------         NaN  \n",
       "1   Spam              NaN  \n",
       "2   Not Spam          NaN  \n",
       "3   Spam              NaN  \n",
       "4   Not Spam          NaN  "
      ]
     },
     "execution_count": 3,
     "metadata": {},
     "output_type": "execute_result"
    }
   ],
   "source": [
    "df.head()"
   ]
  },
  {
   "cell_type": "code",
   "execution_count": 4,
   "id": "d013fcef-0367-4da5-8075-5be540af92fc",
   "metadata": {},
   "outputs": [
    {
     "name": "stdout",
     "output_type": "stream",
     "text": [
      "<class 'pandas.core.frame.DataFrame'>\n",
      "RangeIndex: 22 entries, 0 to 21\n",
      "Data columns (total 5 columns):\n",
      " #   Column                                                                             Non-Null Count  Dtype  \n",
      "---  ------                                                                             --------------  -----  \n",
      " 0   Unnamed: 0                                                                         0 non-null      float64\n",
      " 1    Email Subject                                                                     22 non-null     object \n",
      " 2    Email Body                                                                        22 non-null     object \n",
      " 3    Label                                                                             22 non-null     object \n",
      " 4   Unnamed: 4                                                                         0 non-null      float64\n",
      "dtypes: float64(2), object(3)\n",
      "memory usage: 1012.0+ bytes\n"
     ]
    }
   ],
   "source": [
    "df.info()"
   ]
  },
  {
   "cell_type": "code",
   "execution_count": 5,
   "id": "14d491f3-f819-4714-809a-99433f36ae16",
   "metadata": {},
   "outputs": [],
   "source": [
    "df.columns = [\"A\", \"B\", \"C\", \"D\", \"E\"]"
   ]
  },
  {
   "cell_type": "code",
   "execution_count": 6,
   "id": "2f52bf85-48ed-4a29-b1ed-25b55f01ba67",
   "metadata": {},
   "outputs": [
    {
     "data": {
      "text/html": [
       "<div>\n",
       "<style scoped>\n",
       "    .dataframe tbody tr th:only-of-type {\n",
       "        vertical-align: middle;\n",
       "    }\n",
       "\n",
       "    .dataframe tbody tr th {\n",
       "        vertical-align: top;\n",
       "    }\n",
       "\n",
       "    .dataframe thead th {\n",
       "        text-align: right;\n",
       "    }\n",
       "</style>\n",
       "<table border=\"1\" class=\"dataframe\">\n",
       "  <thead>\n",
       "    <tr style=\"text-align: right;\">\n",
       "      <th></th>\n",
       "      <th>A</th>\n",
       "      <th>B</th>\n",
       "      <th>C</th>\n",
       "      <th>D</th>\n",
       "      <th>E</th>\n",
       "    </tr>\n",
       "  </thead>\n",
       "  <tbody>\n",
       "    <tr>\n",
       "      <th>0</th>\n",
       "      <td>NaN</td>\n",
       "      <td>------------------------------------------------</td>\n",
       "      <td>----------------------------------------------...</td>\n",
       "      <td>----------</td>\n",
       "      <td>NaN</td>\n",
       "    </tr>\n",
       "    <tr>\n",
       "      <th>1</th>\n",
       "      <td>NaN</td>\n",
       "      <td>Urgent: Claim Your Prize Now!</td>\n",
       "      <td>Congratulations! You've won a million dollars...</td>\n",
       "      <td>Spam</td>\n",
       "      <td>NaN</td>\n",
       "    </tr>\n",
       "    <tr>\n",
       "      <th>2</th>\n",
       "      <td>NaN</td>\n",
       "      <td>Invitation to the Annual Conference</td>\n",
       "      <td>Dear valued member, You're invited to attend ...</td>\n",
       "      <td>Not Spam</td>\n",
       "      <td>NaN</td>\n",
       "    </tr>\n",
       "    <tr>\n",
       "      <th>3</th>\n",
       "      <td>NaN</td>\n",
       "      <td>Exclusive Offer: 50% Off Today Only</td>\n",
       "      <td>Limited time offer! Get 50% off on selected i...</td>\n",
       "      <td>Spam</td>\n",
       "      <td>NaN</td>\n",
       "    </tr>\n",
       "    <tr>\n",
       "      <th>4</th>\n",
       "      <td>NaN</td>\n",
       "      <td>Reminder: Your Appointment Tomorrow</td>\n",
       "      <td>Just a friendly reminder that you have an app...</td>\n",
       "      <td>Not Spam</td>\n",
       "      <td>NaN</td>\n",
       "    </tr>\n",
       "  </tbody>\n",
       "</table>\n",
       "</div>"
      ],
      "text/plain": [
       "    A                                                 B  \\\n",
       "0 NaN  ------------------------------------------------   \n",
       "1 NaN   Urgent: Claim Your Prize Now!                     \n",
       "2 NaN   Invitation to the Annual Conference               \n",
       "3 NaN   Exclusive Offer: 50% Off Today Only               \n",
       "4 NaN   Reminder: Your Appointment Tomorrow               \n",
       "\n",
       "                                                   C           D   E  \n",
       "0  ----------------------------------------------...  ---------- NaN  \n",
       "1   Congratulations! You've won a million dollars...   Spam      NaN  \n",
       "2   Dear valued member, You're invited to attend ...   Not Spam  NaN  \n",
       "3   Limited time offer! Get 50% off on selected i...   Spam      NaN  \n",
       "4   Just a friendly reminder that you have an app...   Not Spam  NaN  "
      ]
     },
     "execution_count": 6,
     "metadata": {},
     "output_type": "execute_result"
    }
   ],
   "source": [
    "df.head()"
   ]
  },
  {
   "cell_type": "code",
   "execution_count": 7,
   "id": "728e1ff4-baeb-4e53-b832-c9d22728ddae",
   "metadata": {},
   "outputs": [],
   "source": [
    "df.drop([\"A\", \"B\", \"E\"], axis=1, inplace=True)"
   ]
  },
  {
   "cell_type": "code",
   "execution_count": 8,
   "id": "7c12b3bf-4627-42d5-93a0-6a48850160e7",
   "metadata": {},
   "outputs": [
    {
     "data": {
      "text/html": [
       "<div>\n",
       "<style scoped>\n",
       "    .dataframe tbody tr th:only-of-type {\n",
       "        vertical-align: middle;\n",
       "    }\n",
       "\n",
       "    .dataframe tbody tr th {\n",
       "        vertical-align: top;\n",
       "    }\n",
       "\n",
       "    .dataframe thead th {\n",
       "        text-align: right;\n",
       "    }\n",
       "</style>\n",
       "<table border=\"1\" class=\"dataframe\">\n",
       "  <thead>\n",
       "    <tr style=\"text-align: right;\">\n",
       "      <th></th>\n",
       "      <th>C</th>\n",
       "      <th>D</th>\n",
       "    </tr>\n",
       "  </thead>\n",
       "  <tbody>\n",
       "    <tr>\n",
       "      <th>0</th>\n",
       "      <td>----------------------------------------------...</td>\n",
       "      <td>----------</td>\n",
       "    </tr>\n",
       "    <tr>\n",
       "      <th>1</th>\n",
       "      <td>Congratulations! You've won a million dollars...</td>\n",
       "      <td>Spam</td>\n",
       "    </tr>\n",
       "    <tr>\n",
       "      <th>2</th>\n",
       "      <td>Dear valued member, You're invited to attend ...</td>\n",
       "      <td>Not Spam</td>\n",
       "    </tr>\n",
       "    <tr>\n",
       "      <th>3</th>\n",
       "      <td>Limited time offer! Get 50% off on selected i...</td>\n",
       "      <td>Spam</td>\n",
       "    </tr>\n",
       "    <tr>\n",
       "      <th>4</th>\n",
       "      <td>Just a friendly reminder that you have an app...</td>\n",
       "      <td>Not Spam</td>\n",
       "    </tr>\n",
       "  </tbody>\n",
       "</table>\n",
       "</div>"
      ],
      "text/plain": [
       "                                                   C           D\n",
       "0  ----------------------------------------------...  ----------\n",
       "1   Congratulations! You've won a million dollars...   Spam     \n",
       "2   Dear valued member, You're invited to attend ...   Not Spam \n",
       "3   Limited time offer! Get 50% off on selected i...   Spam     \n",
       "4   Just a friendly reminder that you have an app...   Not Spam "
      ]
     },
     "execution_count": 8,
     "metadata": {},
     "output_type": "execute_result"
    }
   ],
   "source": [
    "df.head()"
   ]
  },
  {
   "cell_type": "code",
   "execution_count": 9,
   "id": "4429601d-2133-4a5a-93e5-7ec199ca3ead",
   "metadata": {},
   "outputs": [
    {
     "name": "stdout",
     "output_type": "stream",
     "text": [
      "<class 'pandas.core.frame.DataFrame'>\n",
      "RangeIndex: 22 entries, 0 to 21\n",
      "Data columns (total 2 columns):\n",
      " #   Column  Non-Null Count  Dtype \n",
      "---  ------  --------------  ----- \n",
      " 0   C       22 non-null     object\n",
      " 1   D       22 non-null     object\n",
      "dtypes: object(2)\n",
      "memory usage: 484.0+ bytes\n"
     ]
    }
   ],
   "source": [
    "df.info()"
   ]
  },
  {
   "cell_type": "code",
   "execution_count": 10,
   "id": "20a451e0-1cee-46ec-a561-07c6053792ce",
   "metadata": {},
   "outputs": [
    {
     "data": {
      "text/html": [
       "<div>\n",
       "<style scoped>\n",
       "    .dataframe tbody tr th:only-of-type {\n",
       "        vertical-align: middle;\n",
       "    }\n",
       "\n",
       "    .dataframe tbody tr th {\n",
       "        vertical-align: top;\n",
       "    }\n",
       "\n",
       "    .dataframe thead th {\n",
       "        text-align: right;\n",
       "    }\n",
       "</style>\n",
       "<table border=\"1\" class=\"dataframe\">\n",
       "  <thead>\n",
       "    <tr style=\"text-align: right;\">\n",
       "      <th></th>\n",
       "      <th>C</th>\n",
       "      <th>D</th>\n",
       "    </tr>\n",
       "  </thead>\n",
       "  <tbody>\n",
       "    <tr>\n",
       "      <th>17</th>\n",
       "      <td>Your account needs verification. Click here t...</td>\n",
       "      <td>Spam</td>\n",
       "    </tr>\n",
       "    <tr>\n",
       "      <th>18</th>\n",
       "      <td>Help us celebrate Jane's birthday this weeken...</td>\n",
       "      <td>Not Spam</td>\n",
       "    </tr>\n",
       "    <tr>\n",
       "      <th>19</th>\n",
       "      <td>You've been selected as our grand prize winne...</td>\n",
       "      <td>Spam</td>\n",
       "    </tr>\n",
       "    <tr>\n",
       "      <th>20</th>\n",
       "      <td>Enjoy exclusive discounts at our sale event t...</td>\n",
       "      <td>Not Spam</td>\n",
       "    </tr>\n",
       "    <tr>\n",
       "      <th>21</th>\n",
       "      <td>Your account security may be compromised. Tak...</td>\n",
       "      <td>Not Spam</td>\n",
       "    </tr>\n",
       "  </tbody>\n",
       "</table>\n",
       "</div>"
      ],
      "text/plain": [
       "                                                    C           D\n",
       "17   Your account needs verification. Click here t...   Spam     \n",
       "18   Help us celebrate Jane's birthday this weeken...   Not Spam \n",
       "19   You've been selected as our grand prize winne...   Spam     \n",
       "20   Enjoy exclusive discounts at our sale event t...   Not Spam \n",
       "21   Your account security may be compromised. Tak...   Not Spam "
      ]
     },
     "execution_count": 10,
     "metadata": {},
     "output_type": "execute_result"
    }
   ],
   "source": [
    "df.tail()"
   ]
  },
  {
   "cell_type": "code",
   "execution_count": 11,
   "id": "f77bf23c-3845-4540-a98f-21c57df8fa12",
   "metadata": {},
   "outputs": [],
   "source": [
    "df[\"C\"]=np.array([str(df[\"C\"][i]).strip() for i in range(len(df))])\n",
    "# str().strip()\n",
    "# To save or store numpy array use df[\"C\"]=\n",
    "# spam and not spam is converted by reset and extra space is removed by drop "
   ]
  },
  {
   "cell_type": "code",
   "execution_count": 12,
   "id": "328739b4-83b0-43d4-83e6-180683b19a15",
   "metadata": {},
   "outputs": [],
   "source": [
    "df[\"D\"]=np.array([str(df[\"D\"][i]).strip() for i in range(len(df))])"
   ]
  },
  {
   "cell_type": "code",
   "execution_count": 13,
   "id": "43871aa1-ea8d-4120-ac98-cb7f9d34267e",
   "metadata": {},
   "outputs": [],
   "source": [
    "df.columns = [\"Email\", \"Label\"]"
   ]
  },
  {
   "cell_type": "code",
   "execution_count": 14,
   "id": "8c706980-3a76-4567-aa55-1eb99c0ba529",
   "metadata": {},
   "outputs": [],
   "source": [
    "df.drop(0, axis=0, inplace=True)"
   ]
  },
  {
   "cell_type": "code",
   "execution_count": 15,
   "id": "12d25bcf-7598-402c-9946-10b2a12a91a8",
   "metadata": {},
   "outputs": [],
   "source": [
    "df.reset_index(drop=True, inplace=True)"
   ]
  },
  {
   "cell_type": "code",
   "execution_count": 16,
   "id": "adb3c136-ae8a-4103-a161-e4196af1c819",
   "metadata": {},
   "outputs": [
    {
     "data": {
      "text/plain": [
       "68"
      ]
     },
     "execution_count": 16,
     "metadata": {},
     "output_type": "execute_result"
    }
   ],
   "source": [
    "len(df[\"Email\"][0])"
   ]
  },
  {
   "cell_type": "code",
   "execution_count": 17,
   "id": "5203e79c-c8cc-4870-8765-ccd17ac55525",
   "metadata": {},
   "outputs": [
    {
     "data": {
      "text/plain": [
       "4"
      ]
     },
     "execution_count": 17,
     "metadata": {},
     "output_type": "execute_result"
    }
   ],
   "source": [
    "len(df[\"Label\"][0])"
   ]
  },
  {
   "cell_type": "code",
   "execution_count": 18,
   "id": "e65d3d1a-b5fd-4fe5-94df-8355e00bb1ec",
   "metadata": {
    "scrolled": true
   },
   "outputs": [
    {
     "data": {
      "text/html": [
       "<div>\n",
       "<style scoped>\n",
       "    .dataframe tbody tr th:only-of-type {\n",
       "        vertical-align: middle;\n",
       "    }\n",
       "\n",
       "    .dataframe tbody tr th {\n",
       "        vertical-align: top;\n",
       "    }\n",
       "\n",
       "    .dataframe thead th {\n",
       "        text-align: right;\n",
       "    }\n",
       "</style>\n",
       "<table border=\"1\" class=\"dataframe\">\n",
       "  <thead>\n",
       "    <tr style=\"text-align: right;\">\n",
       "      <th></th>\n",
       "      <th>Email</th>\n",
       "      <th>Label</th>\n",
       "    </tr>\n",
       "  </thead>\n",
       "  <tbody>\n",
       "    <tr>\n",
       "      <th>0</th>\n",
       "      <td>Congratulations! You've won a million dollars!...</td>\n",
       "      <td>Spam</td>\n",
       "    </tr>\n",
       "    <tr>\n",
       "      <th>1</th>\n",
       "      <td>Dear valued member, You're invited to attend o...</td>\n",
       "      <td>Not Spam</td>\n",
       "    </tr>\n",
       "    <tr>\n",
       "      <th>2</th>\n",
       "      <td>Limited time offer! Get 50% off on selected it...</td>\n",
       "      <td>Spam</td>\n",
       "    </tr>\n",
       "    <tr>\n",
       "      <th>3</th>\n",
       "      <td>Just a friendly reminder that you have an appo...</td>\n",
       "      <td>Not Spam</td>\n",
       "    </tr>\n",
       "    <tr>\n",
       "      <th>4</th>\n",
       "      <td>Make thousands of dollars from home with our r...</td>\n",
       "      <td>Spam</td>\n",
       "    </tr>\n",
       "    <tr>\n",
       "      <th>5</th>\n",
       "      <td>Join us for a delightful evening of food, musi...</td>\n",
       "      <td>Not Spam</td>\n",
       "    </tr>\n",
       "    <tr>\n",
       "      <th>6</th>\n",
       "      <td>Your account information needs to be updated. ...</td>\n",
       "      <td>Not Spam</td>\n",
       "    </tr>\n",
       "    <tr>\n",
       "      <th>7</th>\n",
       "      <td>You're our lucky winner! Click here to claim y...</td>\n",
       "      <td>Spam</td>\n",
       "    </tr>\n",
       "    <tr>\n",
       "      <th>8</th>\n",
       "      <td>This is your last chance to avail of our speci...</td>\n",
       "      <td>Spam</td>\n",
       "    </tr>\n",
       "    <tr>\n",
       "      <th>9</th>\n",
       "      <td>Help us make a difference. Join our charity ev...</td>\n",
       "      <td>Not Spam</td>\n",
       "    </tr>\n",
       "    <tr>\n",
       "      <th>10</th>\n",
       "      <td>Learn the secrets to increasing your income wi...</td>\n",
       "      <td>Spam</td>\n",
       "    </tr>\n",
       "    <tr>\n",
       "      <th>11</th>\n",
       "      <td>Stay updated with our weekly newsletter featur...</td>\n",
       "      <td>Not Spam</td>\n",
       "    </tr>\n",
       "    <tr>\n",
       "      <th>12</th>\n",
       "      <td>Congratulations! You've won a free vacation to...</td>\n",
       "      <td>Spam</td>\n",
       "    </tr>\n",
       "    <tr>\n",
       "      <th>13</th>\n",
       "      <td>We've updated our policies. Please review the ...</td>\n",
       "      <td>Not Spam</td>\n",
       "    </tr>\n",
       "    <tr>\n",
       "      <th>14</th>\n",
       "      <td>Buy one item, get the second one free! Hurry, ...</td>\n",
       "      <td>Spam</td>\n",
       "    </tr>\n",
       "    <tr>\n",
       "      <th>15</th>\n",
       "      <td>Join our upcoming webinar on the future of tec...</td>\n",
       "      <td>Not Spam</td>\n",
       "    </tr>\n",
       "    <tr>\n",
       "      <th>16</th>\n",
       "      <td>Your account needs verification. Click here to...</td>\n",
       "      <td>Spam</td>\n",
       "    </tr>\n",
       "    <tr>\n",
       "      <th>17</th>\n",
       "      <td>Help us celebrate Jane's birthday this weekend...</td>\n",
       "      <td>Not Spam</td>\n",
       "    </tr>\n",
       "    <tr>\n",
       "      <th>18</th>\n",
       "      <td>You've been selected as our grand prize winner...</td>\n",
       "      <td>Spam</td>\n",
       "    </tr>\n",
       "    <tr>\n",
       "      <th>19</th>\n",
       "      <td>Enjoy exclusive discounts at our sale event th...</td>\n",
       "      <td>Not Spam</td>\n",
       "    </tr>\n",
       "    <tr>\n",
       "      <th>20</th>\n",
       "      <td>Your account security may be compromised. Take...</td>\n",
       "      <td>Not Spam</td>\n",
       "    </tr>\n",
       "  </tbody>\n",
       "</table>\n",
       "</div>"
      ],
      "text/plain": [
       "                                                Email     Label\n",
       "0   Congratulations! You've won a million dollars!...      Spam\n",
       "1   Dear valued member, You're invited to attend o...  Not Spam\n",
       "2   Limited time offer! Get 50% off on selected it...      Spam\n",
       "3   Just a friendly reminder that you have an appo...  Not Spam\n",
       "4   Make thousands of dollars from home with our r...      Spam\n",
       "5   Join us for a delightful evening of food, musi...  Not Spam\n",
       "6   Your account information needs to be updated. ...  Not Spam\n",
       "7   You're our lucky winner! Click here to claim y...      Spam\n",
       "8   This is your last chance to avail of our speci...      Spam\n",
       "9   Help us make a difference. Join our charity ev...  Not Spam\n",
       "10  Learn the secrets to increasing your income wi...      Spam\n",
       "11  Stay updated with our weekly newsletter featur...  Not Spam\n",
       "12  Congratulations! You've won a free vacation to...      Spam\n",
       "13  We've updated our policies. Please review the ...  Not Spam\n",
       "14  Buy one item, get the second one free! Hurry, ...      Spam\n",
       "15  Join our upcoming webinar on the future of tec...  Not Spam\n",
       "16  Your account needs verification. Click here to...      Spam\n",
       "17  Help us celebrate Jane's birthday this weekend...  Not Spam\n",
       "18  You've been selected as our grand prize winner...      Spam\n",
       "19  Enjoy exclusive discounts at our sale event th...  Not Spam\n",
       "20  Your account security may be compromised. Take...  Not Spam"
      ]
     },
     "execution_count": 18,
     "metadata": {},
     "output_type": "execute_result"
    }
   ],
   "source": [
    "df"
   ]
  },
  {
   "cell_type": "code",
   "execution_count": 19,
   "id": "954c49ae-f9d1-4d3f-80b0-5d53dd673140",
   "metadata": {},
   "outputs": [],
   "source": [
    "X = df[\"Email\"]\n",
    "y = df[\"Label\"]"
   ]
  },
  {
   "cell_type": "code",
   "execution_count": 20,
   "id": "28f0e148-c2c2-4263-b287-3df3f4065088",
   "metadata": {},
   "outputs": [
    {
     "data": {
      "text/plain": [
       "0     Congratulations! You've won a million dollars!...\n",
       "1     Dear valued member, You're invited to attend o...\n",
       "2     Limited time offer! Get 50% off on selected it...\n",
       "3     Just a friendly reminder that you have an appo...\n",
       "4     Make thousands of dollars from home with our r...\n",
       "5     Join us for a delightful evening of food, musi...\n",
       "6     Your account information needs to be updated. ...\n",
       "7     You're our lucky winner! Click here to claim y...\n",
       "8     This is your last chance to avail of our speci...\n",
       "9     Help us make a difference. Join our charity ev...\n",
       "10    Learn the secrets to increasing your income wi...\n",
       "11    Stay updated with our weekly newsletter featur...\n",
       "12    Congratulations! You've won a free vacation to...\n",
       "13    We've updated our policies. Please review the ...\n",
       "14    Buy one item, get the second one free! Hurry, ...\n",
       "15    Join our upcoming webinar on the future of tec...\n",
       "16    Your account needs verification. Click here to...\n",
       "17    Help us celebrate Jane's birthday this weekend...\n",
       "18    You've been selected as our grand prize winner...\n",
       "19    Enjoy exclusive discounts at our sale event th...\n",
       "20    Your account security may be compromised. Take...\n",
       "Name: Email, dtype: object"
      ]
     },
     "execution_count": 20,
     "metadata": {},
     "output_type": "execute_result"
    }
   ],
   "source": [
    "X"
   ]
  },
  {
   "cell_type": "code",
   "execution_count": 21,
   "id": "6ac6d70a-44bb-4ffb-b980-879325bd36e4",
   "metadata": {},
   "outputs": [
    {
     "data": {
      "text/plain": [
       "0         Spam\n",
       "1     Not Spam\n",
       "2         Spam\n",
       "3     Not Spam\n",
       "4         Spam\n",
       "5     Not Spam\n",
       "6     Not Spam\n",
       "7         Spam\n",
       "8         Spam\n",
       "9     Not Spam\n",
       "10        Spam\n",
       "11    Not Spam\n",
       "12        Spam\n",
       "13    Not Spam\n",
       "14        Spam\n",
       "15    Not Spam\n",
       "16        Spam\n",
       "17    Not Spam\n",
       "18        Spam\n",
       "19    Not Spam\n",
       "20    Not Spam\n",
       "Name: Label, dtype: object"
      ]
     },
     "execution_count": 21,
     "metadata": {},
     "output_type": "execute_result"
    }
   ],
   "source": [
    "y"
   ]
  },
  {
   "cell_type": "code",
   "execution_count": 22,
   "id": "7cbfda95-a083-49f5-bc51-a15a72486663",
   "metadata": {},
   "outputs": [
    {
     "data": {
      "text/plain": [
       "Label\n",
       "Not Spam    11\n",
       "Spam        10\n",
       "Name: count, dtype: int64"
      ]
     },
     "execution_count": 22,
     "metadata": {},
     "output_type": "execute_result"
    }
   ],
   "source": [
    "df[\"Label\"].value_counts()"
   ]
  },
  {
   "cell_type": "code",
   "execution_count": 23,
   "id": "dead153e-8278-4995-a1d4-ab9c1b5e8fbd",
   "metadata": {},
   "outputs": [],
   "source": [
    "X_tr, X_te, y_tr, y_te = train_test_split(X, y, train_size=0.8, random_state=35)"
   ]
  },
  {
   "cell_type": "code",
   "execution_count": 24,
   "id": "11c9d448-0a14-45ac-98c9-accd50257b59",
   "metadata": {},
   "outputs": [],
   "source": [
    "vectors = CountVectorizer()"
   ]
  },
  {
   "cell_type": "code",
   "execution_count": 25,
   "id": "3908dbbb-8d62-4639-b717-e7f8533d373f",
   "metadata": {},
   "outputs": [],
   "source": [
    "X_train = vectors.fit_transform(X_tr)"
   ]
  },
  {
   "cell_type": "code",
   "execution_count": 26,
   "id": "5169cea0-923f-4c7b-abc6-b7a71357cc49",
   "metadata": {},
   "outputs": [],
   "source": [
    "X_test = vectors.transform(X_te)"
   ]
  },
  {
   "cell_type": "code",
   "execution_count": 27,
   "id": "e1904b01-550f-4cf9-8485-38a80cb6f340",
   "metadata": {},
   "outputs": [
    {
     "data": {
      "text/plain": [
       "array([[0, 0, 0, 0, 0, 0, 0, 0, 0, 0, 0, 0, 0, 0, 0, 0, 0, 0, 0, 0, 0, 0,\n",
       "        0, 0, 0, 0, 0, 0, 0, 0, 0, 0, 0, 0, 0, 0, 0, 0, 0, 0, 0, 0, 0, 0,\n",
       "        0, 0, 0, 0, 0, 0, 0, 0, 0, 0, 0, 0, 0, 0, 0, 0, 0, 0, 0, 0, 0, 1,\n",
       "        1, 0, 0, 0, 0, 0, 0, 0, 0, 0, 0, 0, 0, 0, 1, 0, 0, 0, 0, 0, 0, 0,\n",
       "        0, 0, 0, 0, 0, 0, 0, 0, 0, 0, 0, 0, 0, 0, 0, 0, 0, 0, 0, 0, 0, 0],\n",
       "       [0, 0, 0, 0, 0, 0, 0, 0, 0, 0, 0, 0, 0, 0, 0, 0, 0, 0, 0, 0, 0, 0,\n",
       "        0, 0, 0, 0, 0, 0, 0, 0, 0, 1, 0, 0, 0, 0, 0, 0, 0, 0, 0, 0, 0, 0,\n",
       "        0, 0, 0, 0, 0, 1, 0, 0, 0, 0, 0, 0, 0, 0, 0, 0, 0, 0, 0, 0, 1, 0,\n",
       "        0, 0, 0, 0, 0, 0, 0, 0, 0, 0, 0, 0, 0, 0, 0, 0, 0, 0, 0, 0, 0, 0,\n",
       "        0, 0, 0, 0, 0, 0, 0, 0, 1, 0, 0, 0, 0, 0, 0, 0, 0, 0, 0, 0, 0, 0],\n",
       "       [0, 0, 0, 0, 0, 0, 0, 0, 0, 0, 0, 0, 0, 0, 0, 0, 0, 0, 0, 0, 0, 0,\n",
       "        0, 0, 0, 0, 0, 0, 0, 0, 0, 0, 0, 0, 0, 0, 0, 0, 0, 1, 0, 0, 0, 0,\n",
       "        0, 0, 0, 0, 0, 0, 0, 0, 0, 0, 0, 0, 0, 0, 0, 0, 0, 0, 0, 0, 0, 0,\n",
       "        0, 0, 0, 0, 0, 0, 0, 0, 0, 0, 0, 0, 0, 0, 0, 0, 0, 0, 0, 0, 0, 0,\n",
       "        0, 1, 0, 0, 0, 0, 0, 0, 1, 0, 0, 0, 0, 0, 0, 1, 0, 0, 0, 0, 0, 0],\n",
       "       [0, 0, 0, 0, 0, 0, 0, 1, 0, 0, 0, 0, 0, 0, 0, 0, 0, 0, 0, 0, 0, 0,\n",
       "        0, 0, 0, 0, 0, 0, 0, 0, 0, 0, 0, 0, 0, 0, 0, 0, 0, 0, 0, 0, 0, 0,\n",
       "        0, 0, 0, 0, 0, 0, 0, 0, 0, 0, 0, 0, 0, 0, 0, 0, 0, 0, 0, 0, 0, 0,\n",
       "        0, 1, 1, 0, 0, 0, 0, 0, 0, 0, 0, 0, 0, 0, 0, 0, 0, 0, 0, 0, 0, 0,\n",
       "        1, 0, 0, 0, 0, 0, 0, 1, 0, 0, 0, 1, 0, 0, 0, 0, 0, 0, 0, 0, 0, 1],\n",
       "       [0, 0, 0, 0, 0, 0, 0, 0, 0, 0, 0, 0, 0, 0, 0, 0, 0, 0, 0, 0, 0, 0,\n",
       "        0, 0, 0, 0, 0, 0, 0, 0, 0, 0, 1, 0, 0, 0, 0, 0, 0, 0, 0, 0, 0, 0,\n",
       "        0, 0, 0, 0, 0, 0, 0, 0, 0, 0, 0, 0, 0, 0, 0, 0, 0, 0, 0, 0, 0, 1,\n",
       "        0, 0, 0, 0, 0, 0, 0, 0, 0, 0, 0, 0, 0, 0, 0, 0, 0, 0, 0, 0, 0, 0,\n",
       "        1, 0, 0, 0, 0, 0, 0, 0, 0, 0, 0, 0, 0, 0, 0, 0, 0, 0, 0, 0, 0, 0]],\n",
       "      dtype=int64)"
      ]
     },
     "execution_count": 27,
     "metadata": {},
     "output_type": "execute_result"
    }
   ],
   "source": [
    "X_test.toarray()"
   ]
  },
  {
   "cell_type": "code",
   "execution_count": 28,
   "id": "076c3042-24e5-40ad-9875-bdfc9f2925e8",
   "metadata": {},
   "outputs": [
    {
     "data": {
      "text/plain": [
       "array([[0, 0, 0, ..., 0, 1, 0],\n",
       "       [0, 0, 0, ..., 0, 0, 0],\n",
       "       [1, 0, 0, ..., 0, 0, 1],\n",
       "       ...,\n",
       "       [0, 0, 0, ..., 1, 1, 1],\n",
       "       [0, 0, 0, ..., 0, 0, 1],\n",
       "       [0, 0, 0, ..., 0, 0, 0]], dtype=int64)"
      ]
     },
     "execution_count": 28,
     "metadata": {},
     "output_type": "execute_result"
    }
   ],
   "source": [
    "X_train.toarray()"
   ]
  },
  {
   "cell_type": "code",
   "execution_count": 29,
   "id": "8ea72365-8ffe-419b-9a80-a486ced81d73",
   "metadata": {},
   "outputs": [],
   "source": [
    "model = MultinomialNB()"
   ]
  },
  {
   "cell_type": "code",
   "execution_count": 30,
   "id": "9caa4f04-a46b-4a27-a639-6710e1da875d",
   "metadata": {},
   "outputs": [
    {
     "data": {
      "text/html": [
       "<style>#sk-container-id-1 {color: black;}#sk-container-id-1 pre{padding: 0;}#sk-container-id-1 div.sk-toggleable {background-color: white;}#sk-container-id-1 label.sk-toggleable__label {cursor: pointer;display: block;width: 100%;margin-bottom: 0;padding: 0.3em;box-sizing: border-box;text-align: center;}#sk-container-id-1 label.sk-toggleable__label-arrow:before {content: \"▸\";float: left;margin-right: 0.25em;color: #696969;}#sk-container-id-1 label.sk-toggleable__label-arrow:hover:before {color: black;}#sk-container-id-1 div.sk-estimator:hover label.sk-toggleable__label-arrow:before {color: black;}#sk-container-id-1 div.sk-toggleable__content {max-height: 0;max-width: 0;overflow: hidden;text-align: left;background-color: #f0f8ff;}#sk-container-id-1 div.sk-toggleable__content pre {margin: 0.2em;color: black;border-radius: 0.25em;background-color: #f0f8ff;}#sk-container-id-1 input.sk-toggleable__control:checked~div.sk-toggleable__content {max-height: 200px;max-width: 100%;overflow: auto;}#sk-container-id-1 input.sk-toggleable__control:checked~label.sk-toggleable__label-arrow:before {content: \"▾\";}#sk-container-id-1 div.sk-estimator input.sk-toggleable__control:checked~label.sk-toggleable__label {background-color: #d4ebff;}#sk-container-id-1 div.sk-label input.sk-toggleable__control:checked~label.sk-toggleable__label {background-color: #d4ebff;}#sk-container-id-1 input.sk-hidden--visually {border: 0;clip: rect(1px 1px 1px 1px);clip: rect(1px, 1px, 1px, 1px);height: 1px;margin: -1px;overflow: hidden;padding: 0;position: absolute;width: 1px;}#sk-container-id-1 div.sk-estimator {font-family: monospace;background-color: #f0f8ff;border: 1px dotted black;border-radius: 0.25em;box-sizing: border-box;margin-bottom: 0.5em;}#sk-container-id-1 div.sk-estimator:hover {background-color: #d4ebff;}#sk-container-id-1 div.sk-parallel-item::after {content: \"\";width: 100%;border-bottom: 1px solid gray;flex-grow: 1;}#sk-container-id-1 div.sk-label:hover label.sk-toggleable__label {background-color: #d4ebff;}#sk-container-id-1 div.sk-serial::before {content: \"\";position: absolute;border-left: 1px solid gray;box-sizing: border-box;top: 0;bottom: 0;left: 50%;z-index: 0;}#sk-container-id-1 div.sk-serial {display: flex;flex-direction: column;align-items: center;background-color: white;padding-right: 0.2em;padding-left: 0.2em;position: relative;}#sk-container-id-1 div.sk-item {position: relative;z-index: 1;}#sk-container-id-1 div.sk-parallel {display: flex;align-items: stretch;justify-content: center;background-color: white;position: relative;}#sk-container-id-1 div.sk-item::before, #sk-container-id-1 div.sk-parallel-item::before {content: \"\";position: absolute;border-left: 1px solid gray;box-sizing: border-box;top: 0;bottom: 0;left: 50%;z-index: -1;}#sk-container-id-1 div.sk-parallel-item {display: flex;flex-direction: column;z-index: 1;position: relative;background-color: white;}#sk-container-id-1 div.sk-parallel-item:first-child::after {align-self: flex-end;width: 50%;}#sk-container-id-1 div.sk-parallel-item:last-child::after {align-self: flex-start;width: 50%;}#sk-container-id-1 div.sk-parallel-item:only-child::after {width: 0;}#sk-container-id-1 div.sk-dashed-wrapped {border: 1px dashed gray;margin: 0 0.4em 0.5em 0.4em;box-sizing: border-box;padding-bottom: 0.4em;background-color: white;}#sk-container-id-1 div.sk-label label {font-family: monospace;font-weight: bold;display: inline-block;line-height: 1.2em;}#sk-container-id-1 div.sk-label-container {text-align: center;}#sk-container-id-1 div.sk-container {/* jupyter's `normalize.less` sets `[hidden] { display: none; }` but bootstrap.min.css set `[hidden] { display: none !important; }` so we also need the `!important` here to be able to override the default hidden behavior on the sphinx rendered scikit-learn.org. See: https://github.com/scikit-learn/scikit-learn/issues/21755 */display: inline-block !important;position: relative;}#sk-container-id-1 div.sk-text-repr-fallback {display: none;}</style><div id=\"sk-container-id-1\" class=\"sk-top-container\"><div class=\"sk-text-repr-fallback\"><pre>MultinomialNB()</pre><b>In a Jupyter environment, please rerun this cell to show the HTML representation or trust the notebook. <br />On GitHub, the HTML representation is unable to render, please try loading this page with nbviewer.org.</b></div><div class=\"sk-container\" hidden><div class=\"sk-item\"><div class=\"sk-estimator sk-toggleable\"><input class=\"sk-toggleable__control sk-hidden--visually\" id=\"sk-estimator-id-1\" type=\"checkbox\" checked><label for=\"sk-estimator-id-1\" class=\"sk-toggleable__label sk-toggleable__label-arrow\">MultinomialNB</label><div class=\"sk-toggleable__content\"><pre>MultinomialNB()</pre></div></div></div></div></div>"
      ],
      "text/plain": [
       "MultinomialNB()"
      ]
     },
     "execution_count": 30,
     "metadata": {},
     "output_type": "execute_result"
    }
   ],
   "source": [
    "model.fit(X_train, y_tr)"
   ]
  },
  {
   "cell_type": "code",
   "execution_count": 31,
   "id": "605932b5-1951-4fea-a60d-4d7a8790a73d",
   "metadata": {},
   "outputs": [
    {
     "data": {
      "text/plain": [
       "1.0"
      ]
     },
     "execution_count": 31,
     "metadata": {},
     "output_type": "execute_result"
    }
   ],
   "source": [
    "model.score(X_train, y_tr)"
   ]
  },
  {
   "cell_type": "code",
   "execution_count": 32,
   "id": "2b7b939e-91bf-4656-8043-7eff6877d8be",
   "metadata": {},
   "outputs": [],
   "source": [
    "y_pred = model.predict(X_test)"
   ]
  },
  {
   "cell_type": "code",
   "execution_count": 33,
   "id": "422424e1-1161-4765-a03f-211656449d2e",
   "metadata": {},
   "outputs": [
    {
     "data": {
      "text/plain": [
       "1.0"
      ]
     },
     "execution_count": 33,
     "metadata": {},
     "output_type": "execute_result"
    }
   ],
   "source": [
    "accuracy_score(y_pred, y_te)"
   ]
  },
  {
   "cell_type": "code",
   "execution_count": 34,
   "id": "5d31df02-b7b9-4e8f-9a04-411f0173030a",
   "metadata": {},
   "outputs": [
    {
     "name": "stdout",
     "output_type": "stream",
     "text": [
      "              precision    recall  f1-score   support\n",
      "\n",
      "    Not Spam       1.00      1.00      1.00         3\n",
      "        Spam       1.00      1.00      1.00         2\n",
      "\n",
      "    accuracy                           1.00         5\n",
      "   macro avg       1.00      1.00      1.00         5\n",
      "weighted avg       1.00      1.00      1.00         5\n",
      "\n"
     ]
    }
   ],
   "source": [
    "print(classification_report(y_pred, y_te))"
   ]
  },
  {
   "cell_type": "code",
   "execution_count": 35,
   "id": "ba395ebd-a68d-4c7a-8117-346da73efa4c",
   "metadata": {},
   "outputs": [],
   "source": [
    "text = np.array([\"Hello, there congratulation! you have won the new mahindra Thar 4X4\"])"
   ]
  },
  {
   "cell_type": "code",
   "execution_count": 36,
   "id": "da7f4906-3d2a-4759-be03-caed6ca48930",
   "metadata": {},
   "outputs": [],
   "source": [
    "text_vec = vectors.transform(text)"
   ]
  },
  {
   "cell_type": "code",
   "execution_count": 37,
   "id": "47ff05ab-b8d8-4883-94ca-63dd3369b6f7",
   "metadata": {},
   "outputs": [
    {
     "data": {
      "text/plain": [
       "array([[0, 0, 0, 0, 0, 0, 0, 0, 0, 0, 0, 0, 0, 0, 0, 0, 0, 0, 0, 0, 0, 0,\n",
       "        0, 0, 0, 0, 0, 0, 0, 0, 0, 0, 0, 0, 0, 0, 0, 0, 1, 0, 0, 0, 0, 0,\n",
       "        0, 0, 0, 0, 0, 0, 0, 0, 0, 0, 0, 0, 0, 0, 0, 0, 0, 0, 0, 0, 0, 0,\n",
       "        0, 0, 0, 0, 0, 0, 0, 0, 0, 0, 0, 0, 0, 0, 0, 0, 0, 0, 0, 0, 0, 0,\n",
       "        1, 0, 0, 0, 0, 0, 0, 0, 0, 0, 0, 0, 0, 0, 0, 0, 0, 0, 0, 1, 1, 0]],\n",
       "      dtype=int64)"
      ]
     },
     "execution_count": 37,
     "metadata": {},
     "output_type": "execute_result"
    }
   ],
   "source": [
    "text_vec.toarray()"
   ]
  },
  {
   "cell_type": "code",
   "execution_count": 38,
   "id": "b953a896-c64d-4fd7-9881-9236f92b64c9",
   "metadata": {},
   "outputs": [
    {
     "data": {
      "text/plain": [
       "array(['Spam'], dtype='<U8')"
      ]
     },
     "execution_count": 38,
     "metadata": {},
     "output_type": "execute_result"
    }
   ],
   "source": [
    "model.predict(text_vec)"
   ]
  },
  {
   "cell_type": "markdown",
   "id": "7cba3fb3-f8a6-4ce8-ace1-e0718c3b3efa",
   "metadata": {},
   "source": [
    "<!-- Naive Bayes has 3 Types\n",
    "\n",
    "* Gaussian Naive Bayes - NLTK Preprocessed data. Data with word frequencies and the \n",
    "frequency is normally distributed.\n",
    "\n",
    "* Multinomial Naive Bayes - It is general purpose model can be used when the features\n",
    "has word counts or vectors.\n",
    "\n",
    "* Bernoulli Naive Bayes - If output column has 0 or 1 for either True or False, Spam not\n",
    "Spam like this or binary labels."
   ]
  },
  {
   "cell_type": "markdown",
   "id": "776d3f70-fd01-4236-9b1f-2f36a4198939",
   "metadata": {},
   "source": [
    "Naive Bayes has 3 Types\n",
    "\n",
    "* Gaussian Naive Bayes - NLTK Preprocessed data. Data with word frequencies and the frequency is normally distributed.\n",
    "  \n",
    "* Multinomial Naive Bayes - It is general purpose model can be used when the features has word counts or vectors.\n",
    "  \n",
    "* Bernoulli Naive Bayes - If output column has 0 or 1 for either True or False, Spam not Spam like this or binary labels."
   ]
  },
  {
   "cell_type": "code",
   "execution_count": null,
   "id": "7f6dc9c9-3f77-44e3-af7f-edf14ec12694",
   "metadata": {},
   "outputs": [],
   "source": []
  }
 ],
 "metadata": {
  "kernelspec": {
   "display_name": "Python 3 (ipykernel)",
   "language": "python",
   "name": "python3"
  },
  "language_info": {
   "codemirror_mode": {
    "name": "ipython",
    "version": 3
   },
   "file_extension": ".py",
   "mimetype": "text/x-python",
   "name": "python",
   "nbconvert_exporter": "python",
   "pygments_lexer": "ipython3",
   "version": "3.12.0"
  }
 },
 "nbformat": 4,
 "nbformat_minor": 5
}
