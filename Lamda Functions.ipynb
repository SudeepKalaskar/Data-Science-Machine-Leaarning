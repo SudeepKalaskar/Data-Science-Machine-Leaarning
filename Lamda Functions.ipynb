{
 "cells": [
  {
   "cell_type": "markdown",
   "id": "15abffbc-2467-4804-b8b1-f3ceedac70e1",
   "metadata": {},
   "source": [
    "# Lambda Functions"
   ]
  },
  {
   "cell_type": "code",
   "execution_count": 1,
   "id": "3dd62fa0-27e6-4907-855c-3f5acbd21f3b",
   "metadata": {},
   "outputs": [],
   "source": [
    "ls = [9,3,6,1,3,4,6,0]"
   ]
  },
  {
   "cell_type": "code",
   "execution_count": 2,
   "id": "bf29a24e-a7e9-42e9-a2ff-cd970feb050e",
   "metadata": {},
   "outputs": [
    {
     "data": {
      "text/plain": [
       "[0, 1, 3, 3, 4, 6, 6, 9]"
      ]
     },
     "execution_count": 2,
     "metadata": {},
     "output_type": "execute_result"
    }
   ],
   "source": [
    "sorted(ls)"
   ]
  },
  {
   "cell_type": "code",
   "execution_count": 3,
   "id": "2a111e3c-ca2d-4ceb-88f4-b15cee659829",
   "metadata": {},
   "outputs": [],
   "source": [
    "ls2 = [(8, \"Shruti\"), (1, \"Rutuja\"), (5, \"Pankaj\"), (4, \"Sudeep\"), (2, \"Pranav\")]"
   ]
  },
  {
   "cell_type": "code",
   "execution_count": 4,
   "id": "67fe76bc-75d4-4d59-a6ae-ace266ebad2f",
   "metadata": {},
   "outputs": [
    {
     "data": {
      "text/plain": [
       "[(1, 'Rutuja'), (2, 'Pranav'), (4, 'Sudeep'), (5, 'Pankaj'), (8, 'Shruti')]"
      ]
     },
     "execution_count": 4,
     "metadata": {},
     "output_type": "execute_result"
    }
   ],
   "source": [
    "sorted(ls2)"
   ]
  },
  {
   "cell_type": "code",
   "execution_count": 5,
   "id": "209af00b-ba84-420d-85b0-885a362985ec",
   "metadata": {},
   "outputs": [
    {
     "data": {
      "text/plain": [
       "[(5, 'Pankaj'), (2, 'Pranav'), (1, 'Rutuja'), (8, 'Shruti'), (4, 'Sudeep')]"
      ]
     },
     "execution_count": 5,
     "metadata": {},
     "output_type": "execute_result"
    }
   ],
   "source": [
    "sorted(ls2, key= lambda x: x[1])"
   ]
  },
  {
   "cell_type": "code",
   "execution_count": 6,
   "id": "2cccbf8e-0312-4f99-b7fd-f072426c311a",
   "metadata": {},
   "outputs": [],
   "source": [
    "ls3 = [23,34,76,25,97]"
   ]
  },
  {
   "cell_type": "code",
   "execution_count": 7,
   "id": "babeabe6-e083-48ef-887d-54fea6280eb4",
   "metadata": {},
   "outputs": [
    {
     "data": {
      "text/plain": [
       "[529, 1156, 5776, 625, 9409]"
      ]
     },
     "execution_count": 7,
     "metadata": {},
     "output_type": "execute_result"
    }
   ],
   "source": [
    "list(map(lambda x : x**2, ls3))"
   ]
  },
  {
   "cell_type": "code",
   "execution_count": 8,
   "id": "ccc85d1d-7def-4157-ba5f-cc271c6f1275",
   "metadata": {},
   "outputs": [
    {
     "data": {
      "text/plain": [
       "['odd', 'Even', 'Even', 'odd', 'odd']"
      ]
     },
     "execution_count": 8,
     "metadata": {},
     "output_type": "execute_result"
    }
   ],
   "source": [
    "num_list = []\n",
    "for i in ls3:\n",
    "    if i % 2 == 0:\n",
    "        num_list.append(\"Even\")\n",
    "    else:\n",
    "        num_list.append(\"odd\") \n",
    "num_list"
   ]
  },
  {
   "cell_type": "code",
   "execution_count": 9,
   "id": "4e2bd6cb-e55e-4156-aad7-3016b79e1d78",
   "metadata": {},
   "outputs": [
    {
     "data": {
      "text/plain": [
       "['odd', 'Even', 'Even', 'odd', 'odd']"
      ]
     },
     "execution_count": 9,
     "metadata": {},
     "output_type": "execute_result"
    }
   ],
   "source": [
    "list(map(lambda x : \"Even\" if x%2==0 else \"odd\", ls3))"
   ]
  },
  {
   "cell_type": "code",
   "execution_count": 10,
   "id": "a3ab5f56-6c14-496e-aa27-a26f50eaa7b5",
   "metadata": {},
   "outputs": [],
   "source": [
    "from random import randint"
   ]
  },
  {
   "cell_type": "code",
   "execution_count": 11,
   "id": "9f02c071-0d15-4a32-b062-03a464f25656",
   "metadata": {},
   "outputs": [],
   "source": [
    "random_nums = [randint(1,100) for i in range(20)]"
   ]
  },
  {
   "cell_type": "code",
   "execution_count": 12,
   "id": "494109f8-235d-4583-89f8-88d187e9d693",
   "metadata": {},
   "outputs": [
    {
     "data": {
      "text/plain": [
       "[28,\n",
       " 96,\n",
       " 58,\n",
       " 60,\n",
       " 98,\n",
       " 22,\n",
       " 91,\n",
       " 94,\n",
       " 71,\n",
       " 43,\n",
       " 87,\n",
       " 37,\n",
       " 38,\n",
       " 27,\n",
       " 65,\n",
       " 7,\n",
       " 76,\n",
       " 23,\n",
       " 100,\n",
       " 100]"
      ]
     },
     "execution_count": 12,
     "metadata": {},
     "output_type": "execute_result"
    }
   ],
   "source": [
    "random_nums"
   ]
  },
  {
   "cell_type": "code",
   "execution_count": 13,
   "id": "0856667e-6b14-42a7-8931-9f2867b2e2b0",
   "metadata": {},
   "outputs": [
    {
     "data": {
      "text/plain": [
       "[28, 96, 58, 60, 98, 22, 94, 38, 76, 100, 100]"
      ]
     },
     "execution_count": 13,
     "metadata": {},
     "output_type": "execute_result"
    }
   ],
   "source": [
    "list(filter(lambda x : x%2==0, random_nums))"
   ]
  },
  {
   "cell_type": "code",
   "execution_count": 14,
   "id": "a739b275-9249-4b32-b8ab-7fbe7b27523c",
   "metadata": {},
   "outputs": [
    {
     "data": {
      "text/plain": [
       "[28, 98, 91, 7]"
      ]
     },
     "execution_count": 14,
     "metadata": {},
     "output_type": "execute_result"
    }
   ],
   "source": [
    "list(filter(lambda x : x%7==0, random_nums))"
   ]
  },
  {
   "cell_type": "code",
   "execution_count": 15,
   "id": "21f961a2-c29d-4cc8-bdac-60d5c36db028",
   "metadata": {},
   "outputs": [
    {
     "data": {
      "text/plain": [
       "[91, 71, 43, 87, 37, 27, 65, 7, 23]"
      ]
     },
     "execution_count": 15,
     "metadata": {},
     "output_type": "execute_result"
    }
   ],
   "source": [
    "list(filter(lambda x : x%2!=0, random_nums))"
   ]
  },
  {
   "cell_type": "code",
   "execution_count": 16,
   "id": "3936ba25-e9b0-44c8-a7be-12ca26f863a7",
   "metadata": {},
   "outputs": [],
   "source": [
    "from functools import reduce"
   ]
  },
  {
   "cell_type": "code",
   "execution_count": 17,
   "id": "81731006-18ae-492c-b7af-30cd3b61e5d0",
   "metadata": {},
   "outputs": [
    {
     "data": {
      "text/plain": [
       "1221"
      ]
     },
     "execution_count": 17,
     "metadata": {},
     "output_type": "execute_result"
    }
   ],
   "source": [
    "reduce(lambda x, y: x+y, random_nums)"
   ]
  },
  {
   "cell_type": "code",
   "execution_count": 18,
   "id": "17098351-523f-4651-abe9-501a7c0d0a85",
   "metadata": {},
   "outputs": [
    {
     "data": {
      "text/plain": [
       "13834850722427058440096268288000000"
      ]
     },
     "execution_count": 18,
     "metadata": {},
     "output_type": "execute_result"
    }
   ],
   "source": [
    "reduce(lambda x, y: x*y, random_nums)\n"
   ]
  },
  {
   "cell_type": "code",
   "execution_count": 19,
   "id": "02ad03a9-572e-4501-b8f0-527485bab276",
   "metadata": {},
   "outputs": [
    {
     "data": {
      "text/plain": [
       "100"
      ]
     },
     "execution_count": 19,
     "metadata": {},
     "output_type": "execute_result"
    }
   ],
   "source": [
    "reduce(lambda x, y: x if x>y else y, random_nums)"
   ]
  },
  {
   "cell_type": "code",
   "execution_count": null,
   "id": "e254d3f6-0fd9-421b-8e77-7353ed464379",
   "metadata": {},
   "outputs": [],
   "source": []
  }
 ],
 "metadata": {
  "kernelspec": {
   "display_name": "Python 3 (ipykernel)",
   "language": "python",
   "name": "python3"
  },
  "language_info": {
   "codemirror_mode": {
    "name": "ipython",
    "version": 3
   },
   "file_extension": ".py",
   "mimetype": "text/x-python",
   "name": "python",
   "nbconvert_exporter": "python",
   "pygments_lexer": "ipython3",
   "version": "3.12.0"
  }
 },
 "nbformat": 4,
 "nbformat_minor": 5
}
