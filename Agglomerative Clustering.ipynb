{
 "cells": [
  {
   "cell_type": "code",
   "execution_count": 1,
   "id": "08d13914-48b0-43e8-968d-c54e8f5c177d",
   "metadata": {},
   "outputs": [],
   "source": [
    "import pandas as pd\n",
    "import numpy as np\n",
    "from sklearn.cluster import AgglomerativeClustering\n",
    "from sklearn.metrics import silhouette_score\n",
    "from matplotlib  import pyplot as plt\n",
    "import warnings\n",
    "warnings.filterwarnings(\"ignore\")"
   ]
  },
  {
   "cell_type": "code",
   "execution_count": 2,
   "id": "b7ee6ccd-de69-4aa6-aefb-057fe05f0ca6",
   "metadata": {},
   "outputs": [],
   "source": [
    "from sklearn.datasets import make_blobs"
   ]
  },
  {
   "cell_type": "code",
   "execution_count": 3,
   "id": "227b6a2e-b149-48c6-b076-c5db04804785",
   "metadata": {},
   "outputs": [],
   "source": [
    "data = make_blobs(n_samples=40, n_features=2, centers=[[1,1], [3,3]])"
   ]
  },
  {
   "cell_type": "code",
   "execution_count": 4,
   "id": "9d5a4dcd-de1b-4af2-951b-1c974a2163f6",
   "metadata": {},
   "outputs": [
    {
     "data": {
      "text/plain": [
       "(array([[ 1.40483602,  0.83170867],\n",
       "        [ 2.84943415,  1.93202747],\n",
       "        [ 2.40459957,  2.63546522],\n",
       "        [ 2.32904539,  3.16277315],\n",
       "        [ 0.09117503,  0.36331769],\n",
       "        [ 1.06452301,  2.04734977],\n",
       "        [ 2.07590482,  3.21665464],\n",
       "        [ 1.81746974,  2.27435711],\n",
       "        [ 1.99486258,  1.06096938],\n",
       "        [ 2.81325904,  2.6412782 ],\n",
       "        [ 3.41944593,  1.83459484],\n",
       "        [ 1.68603155,  2.42207758],\n",
       "        [ 0.29622202,  2.00885785],\n",
       "        [ 3.00311636,  2.06026223],\n",
       "        [ 1.43566095, -0.05705119],\n",
       "        [ 0.42416564,  1.65291451],\n",
       "        [ 1.89939253,  2.50487213],\n",
       "        [ 1.11650187, -0.02829432],\n",
       "        [ 1.52945066,  1.73110723],\n",
       "        [ 0.69285487,  0.70017817],\n",
       "        [ 1.15537583,  0.36330986],\n",
       "        [ 5.09482459,  3.14172107],\n",
       "        [ 0.61973721,  1.51971986],\n",
       "        [ 2.04316815,  3.21434734],\n",
       "        [ 0.09569422,  0.79766131],\n",
       "        [ 2.49303918,  3.10912906],\n",
       "        [ 2.49324397,  3.59927227],\n",
       "        [ 0.55837184,  1.33947337],\n",
       "        [ 2.55157568,  2.56064522],\n",
       "        [ 1.43679933,  1.29928526],\n",
       "        [ 1.78967034,  1.82325036],\n",
       "        [ 1.66131898,  2.42970903],\n",
       "        [ 1.93384443,  0.40262737],\n",
       "        [ 2.04374665,  2.08947584],\n",
       "        [ 4.15178098,  2.86692903],\n",
       "        [ 3.88552255,  3.52001806],\n",
       "        [ 2.29814004,  3.02572434],\n",
       "        [ 0.79438182,  1.62675331],\n",
       "        [ 2.38683072,  4.16997671],\n",
       "        [ 2.1430006 ,  3.37613066]]),\n",
       " array([0, 1, 0, 1, 0, 0, 1, 1, 0, 1, 1, 0, 0, 1, 0, 0, 1, 0, 0, 0, 0, 1,\n",
       "        0, 1, 0, 0, 1, 0, 1, 0, 1, 1, 0, 1, 1, 1, 1, 0, 1, 1]))"
      ]
     },
     "execution_count": 4,
     "metadata": {},
     "output_type": "execute_result"
    }
   ],
   "source": [
    "data"
   ]
  },
  {
   "cell_type": "code",
   "execution_count": 5,
   "id": "532bd245-2bb7-404c-b05b-b37faaf5a77f",
   "metadata": {},
   "outputs": [],
   "source": [
    "X = data[0]\n",
    "y = data[1]"
   ]
  },
  {
   "cell_type": "code",
   "execution_count": 6,
   "id": "ebcccab3-7d02-40e8-b232-1f8c1f281821",
   "metadata": {},
   "outputs": [
    {
     "data": {
      "image/png": "[encoded data removed]",
      "text/plain": [
       "<Figure size 640x480 with 1 Axes>"
      ]
     },
     "metadata": {},
     "output_type": "display_data"
    }
   ],
   "source": [
    "plt.scatter(X[y==0,0], X[y==0,1], label=\"Cluster 1\")\n",
    "plt.scatter(X[y==1,0], X[y==1,1], label=\"Cluster 2\")\n",
    "plt.legend\n",
    "plt.show()"
   ]
  },
  {
   "cell_type": "code",
   "execution_count": 7,
   "id": "ffc17faf-046f-4d21-af91-28b14941c4ac",
   "metadata": {},
   "outputs": [],
   "source": [
    "def find_optimal_clusters(data, n_clusters=10):\n",
    "    silhouette_scores = []\n",
    "    for i in range(2, n_clusters+1):\n",
    "        model = AgglomerativeClustering(n_clusters=i)\n",
    "        pred = model.fit_predict(data)\n",
    "        score = silhouette_score(data, pred)\n",
    "        silhouette_scores.append(score)\n",
    "        best_clusters = np.argmax(silhouette_scores)+2\n",
    "        return best_clusters"
   ]
  },
  {
   "cell_type": "code",
   "execution_count": 8,
   "id": "5252b94f-51b8-4cb7-92f6-fae28598eddb",
   "metadata": {},
   "outputs": [],
   "source": [
    "best_n_clusters = find_optimal_clusters(X)"
   ]
  },
  {
   "cell_type": "code",
   "execution_count": 9,
   "id": "7681f15c-8d4e-4bb2-a705-bc658c6d3f5c",
   "metadata": {},
   "outputs": [],
   "source": [
    "agg_model = AgglomerativeClustering(n_clusters=best_n_clusters)"
   ]
  },
  {
   "cell_type": "code",
   "execution_count": 10,
   "id": "6e875b4f-8a03-4649-83de-ce79626c6def",
   "metadata": {},
   "outputs": [],
   "source": [
    "labels = agg_model.fit_predict(X)"
   ]
  },
  {
   "cell_type": "code",
   "execution_count": 11,
   "id": "30205db9-cfa2-46d0-8641-c0dbb84ee01a",
   "metadata": {},
   "outputs": [
    {
     "data": {
      "text/plain": [
       "array([1, 0, 0, 0, 1, 0, 0, 0, 1, 0, 0, 0, 1, 0, 1, 1, 0, 1, 0, 1, 1, 0,\n",
       "       1, 0, 1, 0, 0, 1, 0, 1, 0, 0, 1, 0, 0, 0, 0, 1, 0, 0], dtype=int64)"
      ]
     },
     "execution_count": 11,
     "metadata": {},
     "output_type": "execute_result"
    }
   ],
   "source": [
    "labels"
   ]
  },
  {
   "cell_type": "code",
   "execution_count": 12,
   "id": "8b71ff3b-f514-44fc-9937-40a38d5b74a2",
   "metadata": {},
   "outputs": [],
   "source": [
    "from sklearn.metrics import accuracy_score"
   ]
  },
  {
   "cell_type": "code",
   "execution_count": 13,
   "id": "9d223c7b-3348-4afd-8f44-b93f0c4457f2",
   "metadata": {},
   "outputs": [
    {
     "data": {
      "text/plain": [
       "0.125"
      ]
     },
     "execution_count": 13,
     "metadata": {},
     "output_type": "execute_result"
    }
   ],
   "source": [
    "accuracy_score(y, labels)"
   ]
  },
  {
   "cell_type": "code",
   "execution_count": 14,
   "id": "cd448d11-c8fe-40de-9056-1d5c099ec60a",
   "metadata": {},
   "outputs": [
    {
     "data": {
      "text/plain": [
       "array([0, 1, 0, 1, 0, 0, 1, 1, 0, 1, 1, 0, 0, 1, 0, 0, 1, 0, 0, 0, 0, 1,\n",
       "       0, 1, 0, 0, 1, 0, 1, 0, 1, 1, 0, 1, 1, 1, 1, 0, 1, 1])"
      ]
     },
     "execution_count": 14,
     "metadata": {},
     "output_type": "execute_result"
    }
   ],
   "source": [
    "y"
   ]
  },
  {
   "cell_type": "code",
   "execution_count": 15,
   "id": "5f11abe2-6a41-4fb3-a67a-000121b0f390",
   "metadata": {},
   "outputs": [],
   "source": [
    "def find_optimal_clusters(data, n_clusters=10):\n",
    "    all_scores = []\n",
    "    for i in range(2, n_clusters+1):\n",
    "        model = AgglomerativeClustering(n_clusters=i)\n",
    "        pred = model.fit_predict(data)\n",
    "        score = silhouette_score(data, pred)\n",
    "        all_scores.append(score)\n",
    "        best_clusters = np.argmax(all_scores)+2\n",
    "        return best_clusters"
   ]
  },
  {
   "cell_type": "code",
   "execution_count": 16,
   "id": "123f11b4-75da-4a44-9292-77ad163811be",
   "metadata": {},
   "outputs": [],
   "source": [
    "best_n_clusters = find_optimal_clusters(X)"
   ]
  },
  {
   "cell_type": "code",
   "execution_count": 17,
   "id": "6eb005d1-c6a0-46d2-b66a-5a4b78a6ed19",
   "metadata": {},
   "outputs": [],
   "source": [
    "agg_model = AgglomerativeClustering(n_clusters=best_n_clusters)"
   ]
  },
  {
   "cell_type": "code",
   "execution_count": 18,
   "id": "7257cd2d-86e8-4c50-a0c8-a48bf89c9f35",
   "metadata": {},
   "outputs": [],
   "source": [
    "labels = np.array(list(map(lambda x: np.abs(x-1),labels)))"
   ]
  },
  {
   "cell_type": "code",
   "execution_count": 19,
   "id": "99ceac98-bd61-4a76-a428-7b16068a756c",
   "metadata": {},
   "outputs": [
    {
     "data": {
      "text/plain": [
       "array([0, 1, 1, 1, 0, 1, 1, 1, 0, 1, 1, 1, 0, 1, 0, 0, 1, 0, 1, 0, 0, 1,\n",
       "       0, 1, 0, 1, 1, 0, 1, 0, 1, 1, 0, 1, 1, 1, 1, 0, 1, 1], dtype=int64)"
      ]
     },
     "execution_count": 19,
     "metadata": {},
     "output_type": "execute_result"
    }
   ],
   "source": [
    "labels"
   ]
  },
  {
   "cell_type": "code",
   "execution_count": 20,
   "id": "8578f2a3-42be-4f15-bbfe-c6c59b9faf41",
   "metadata": {},
   "outputs": [],
   "source": [
    "from sklearn.metrics import accuracy_score"
   ]
  },
  {
   "cell_type": "code",
   "execution_count": 21,
   "id": "433f2921-92fd-45c6-9633-45236088ab37",
   "metadata": {},
   "outputs": [
    {
     "data": {
      "text/plain": [
       "0.875"
      ]
     },
     "execution_count": 21,
     "metadata": {},
     "output_type": "execute_result"
    }
   ],
   "source": [
    "accuracy_score(y, labels)"
   ]
  },
  {
   "cell_type": "code",
   "execution_count": 22,
   "id": "890c3449-02d9-4493-8cd2-7356dc87dc3a",
   "metadata": {},
   "outputs": [
    {
     "data": {
      "text/plain": [
       "array([0, 1, 0, 1, 0, 0, 1, 1, 0, 1, 1, 0, 0, 1, 0, 0, 1, 0, 0, 0, 0, 1,\n",
       "       0, 1, 0, 0, 1, 0, 1, 0, 1, 1, 0, 1, 1, 1, 1, 0, 1, 1])"
      ]
     },
     "execution_count": 22,
     "metadata": {},
     "output_type": "execute_result"
    }
   ],
   "source": [
    "y"
   ]
  },
  {
   "cell_type": "code",
   "execution_count": 23,
   "id": "5b18f5f2-741a-43ef-b7d8-7a044ae06eec",
   "metadata": {},
   "outputs": [
    {
     "data": {
      "text/plain": [
       "(array([1, 1, 2, 1, 5, 1, 7, 5, 3, 6]), array([5, 8, 7, 1, 3, 8, 4, 6, 2, 5]))"
      ]
     },
     "execution_count": 23,
     "metadata": {},
     "output_type": "execute_result"
    }
   ],
   "source": [
    "d1 = np.random.randint(1, 9, 10)\n",
    "d2 = np.random.randint(1, 9, 10)\n",
    "d1, d2"
   ]
  },
  {
   "cell_type": "code",
   "execution_count": 24,
   "id": "2e59ef2a-514c-4bd2-bae3-cd7df419fbd9",
   "metadata": {},
   "outputs": [
    {
     "data": {
      "text/html": [
       "<div>\n",
       "<style scoped>\n",
       "    .dataframe tbody tr th:only-of-type {\n",
       "        vertical-align: middle;\n",
       "    }\n",
       "\n",
       "    .dataframe tbody tr th {\n",
       "        vertical-align: top;\n",
       "    }\n",
       "\n",
       "    .dataframe thead th {\n",
       "        text-align: right;\n",
       "    }\n",
       "</style>\n",
       "<table border=\"1\" class=\"dataframe\">\n",
       "  <thead>\n",
       "    <tr style=\"text-align: right;\">\n",
       "      <th></th>\n",
       "      <th>A</th>\n",
       "      <th>B</th>\n",
       "    </tr>\n",
       "  </thead>\n",
       "  <tbody>\n",
       "    <tr>\n",
       "      <th>0</th>\n",
       "      <td>1</td>\n",
       "      <td>5</td>\n",
       "    </tr>\n",
       "    <tr>\n",
       "      <th>1</th>\n",
       "      <td>1</td>\n",
       "      <td>8</td>\n",
       "    </tr>\n",
       "    <tr>\n",
       "      <th>2</th>\n",
       "      <td>2</td>\n",
       "      <td>7</td>\n",
       "    </tr>\n",
       "    <tr>\n",
       "      <th>3</th>\n",
       "      <td>1</td>\n",
       "      <td>1</td>\n",
       "    </tr>\n",
       "    <tr>\n",
       "      <th>4</th>\n",
       "      <td>5</td>\n",
       "      <td>3</td>\n",
       "    </tr>\n",
       "  </tbody>\n",
       "</table>\n",
       "</div>"
      ],
      "text/plain": [
       "   A  B\n",
       "0  1  5\n",
       "1  1  8\n",
       "2  2  7\n",
       "3  1  1\n",
       "4  5  3"
      ]
     },
     "execution_count": 24,
     "metadata": {},
     "output_type": "execute_result"
    }
   ],
   "source": [
    "df = pd.DataFrame({\"A\":d1, \"B\":d2})\n",
    "df.head()"
   ]
  },
  {
   "cell_type": "code",
   "execution_count": 25,
   "id": "4e6fd73e-c622-499c-bdbe-a88452f95748",
   "metadata": {},
   "outputs": [
    {
     "data": {
      "image/png": "[encoded data removed]",
      "text/plain": [
       "<Figure size 640x480 with 1 Axes>"
      ]
     },
     "metadata": {},
     "output_type": "display_data"
    }
   ],
   "source": [
    "plt.scatter(df[\"A\"], df[\"B\"])\n",
    "plt.show()"
   ]
  },
  {
   "cell_type": "code",
   "execution_count": 26,
   "id": "cdeb13d5-4e12-4795-b6c4-fb98940f9ab0",
   "metadata": {},
   "outputs": [
    {
     "data": {
      "text/plain": [
       "[[0.0,\n",
       "  3.0,\n",
       "  2.23606797749979,\n",
       "  4.0,\n",
       "  4.47213595499958,\n",
       "  3.0,\n",
       "  6.082762530298219,\n",
       "  4.123105625617661,\n",
       "  3.605551275463989,\n",
       "  5.0],\n",
       " [3.0,\n",
       "  0.0,\n",
       "  1.4142135623730951,\n",
       "  7.0,\n",
       "  6.4031242374328485,\n",
       "  0.0,\n",
       "  7.211102550927978,\n",
       "  4.47213595499958,\n",
       "  6.324555320336759,\n",
       "  5.830951894845301],\n",
       " [2.23606797749979,\n",
       "  1.4142135623730951,\n",
       "  0.0,\n",
       "  6.082762530298219,\n",
       "  5.0,\n",
       "  1.4142135623730951,\n",
       "  5.830951894845301,\n",
       "  3.1622776601683795,\n",
       "  5.0990195135927845,\n",
       "  4.47213595499958],\n",
       " [4.0,\n",
       "  7.0,\n",
       "  6.082762530298219,\n",
       "  0.0,\n",
       "  4.47213595499958,\n",
       "  7.0,\n",
       "  6.708203932499369,\n",
       "  6.4031242374328485,\n",
       "  2.23606797749979,\n",
       "  6.4031242374328485],\n",
       " [4.47213595499958,\n",
       "  6.4031242374328485,\n",
       "  5.0,\n",
       "  4.47213595499958,\n",
       "  0.0,\n",
       "  6.4031242374328485,\n",
       "  2.23606797749979,\n",
       "  3.0,\n",
       "  2.23606797749979,\n",
       "  2.23606797749979],\n",
       " [3.0,\n",
       "  0.0,\n",
       "  1.4142135623730951,\n",
       "  7.0,\n",
       "  6.4031242374328485,\n",
       "  0.0,\n",
       "  7.211102550927978,\n",
       "  4.47213595499958,\n",
       "  6.324555320336759,\n",
       "  5.830951894845301],\n",
       " [6.082762530298219,\n",
       "  7.211102550927978,\n",
       "  5.830951894845301,\n",
       "  6.708203932499369,\n",
       "  2.23606797749979,\n",
       "  7.211102550927978,\n",
       "  0.0,\n",
       "  2.8284271247461903,\n",
       "  4.47213595499958,\n",
       "  1.4142135623730951],\n",
       " [4.123105625617661,\n",
       "  4.47213595499958,\n",
       "  3.1622776601683795,\n",
       "  6.4031242374328485,\n",
       "  3.0,\n",
       "  4.47213595499958,\n",
       "  2.8284271247461903,\n",
       "  0.0,\n",
       "  4.47213595499958,\n",
       "  1.4142135623730951],\n",
       " [3.605551275463989,\n",
       "  6.324555320336759,\n",
       "  5.0990195135927845,\n",
       "  2.23606797749979,\n",
       "  2.23606797749979,\n",
       "  6.324555320336759,\n",
       "  4.47213595499958,\n",
       "  4.47213595499958,\n",
       "  0.0,\n",
       "  4.242640687119285],\n",
       " [5.0,\n",
       "  5.830951894845301,\n",
       "  4.47213595499958,\n",
       "  6.4031242374328485,\n",
       "  2.23606797749979,\n",
       "  5.830951894845301,\n",
       "  1.4142135623730951,\n",
       "  1.4142135623730951,\n",
       "  4.242640687119285,\n",
       "  0.0]]"
      ]
     },
     "execution_count": 26,
     "metadata": {},
     "output_type": "execute_result"
    }
   ],
   "source": [
    "[[np.sqrt(np.sum(np.square(df.iloc[i] - df.iloc[j]))) for i in range(len(df))] for j in range(len(df))]"
   ]
  },
  {
   "cell_type": "code",
   "execution_count": 27,
   "id": "8d9e447b-19c9-4bc8-a69a-c8feca29dbf5",
   "metadata": {},
   "outputs": [],
   "source": [
    "distance_matrix = [[np.sqrt(np.sum(np.square(df.iloc[i] - df.iloc[j]))) for i in range(len(df))] for j in range(len(df))]\n"
   ]
  },
  {
   "cell_type": "code",
   "execution_count": 28,
   "id": "801b6d0f-c4e6-4786-8721-c924285f8409",
   "metadata": {},
   "outputs": [],
   "source": [
    "distance_matrix = np.round(distance_matrix, decimals=2)"
   ]
  },
  {
   "cell_type": "code",
   "execution_count": 29,
   "id": "ed6b429e-ff26-443b-aebc-491b63203a32",
   "metadata": {},
   "outputs": [
    {
     "data": {
      "text/plain": [
       "array([[0.  , 3.  , 2.24, 4.  , 4.47, 3.  , 6.08, 4.12, 3.61, 5.  ],\n",
       "       [3.  , 0.  , 1.41, 7.  , 6.4 , 0.  , 7.21, 4.47, 6.32, 5.83],\n",
       "       [2.24, 1.41, 0.  , 6.08, 5.  , 1.41, 5.83, 3.16, 5.1 , 4.47],\n",
       "       [4.  , 7.  , 6.08, 0.  , 4.47, 7.  , 6.71, 6.4 , 2.24, 6.4 ],\n",
       "       [4.47, 6.4 , 5.  , 4.47, 0.  , 6.4 , 2.24, 3.  , 2.24, 2.24],\n",
       "       [3.  , 0.  , 1.41, 7.  , 6.4 , 0.  , 7.21, 4.47, 6.32, 5.83],\n",
       "       [6.08, 7.21, 5.83, 6.71, 2.24, 7.21, 0.  , 2.83, 4.47, 1.41],\n",
       "       [4.12, 4.47, 3.16, 6.4 , 3.  , 4.47, 2.83, 0.  , 4.47, 1.41],\n",
       "       [3.61, 6.32, 5.1 , 2.24, 2.24, 6.32, 4.47, 4.47, 0.  , 4.24],\n",
       "       [5.  , 5.83, 4.47, 6.4 , 2.24, 5.83, 1.41, 1.41, 4.24, 0.  ]])"
      ]
     },
     "execution_count": 29,
     "metadata": {},
     "output_type": "execute_result"
    }
   ],
   "source": [
    "distance_matrix"
   ]
  },
  {
   "cell_type": "code",
   "execution_count": null,
   "id": "73488f9e-0b00-4fc8-93ba-c1d627b14106",
   "metadata": {},
   "outputs": [],
   "source": []
  }
 ],
 "metadata": {
  "kernelspec": {
   "display_name": "Python 3 (ipykernel)",
   "language": "python",
   "name": "python3"
  },
  "language_info": {
   "codemirror_mode": {
    "name": "ipython",
    "version": 3
   },
   "file_extension": ".py",
   "mimetype": "text/x-python",
   "name": "python",
   "nbconvert_exporter": "python",
   "pygments_lexer": "ipython3",
   "version": "3.12.0"
  }
 },
 "nbformat": 4,
 "nbformat_minor": 5
}
