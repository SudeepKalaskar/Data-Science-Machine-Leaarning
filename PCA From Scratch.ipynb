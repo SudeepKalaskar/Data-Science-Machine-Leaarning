{
 "cells": [
  {
   "cell_type": "code",
   "execution_count": 1,
   "id": "6e770fd2-f31f-4b45-abcf-933b165e5147",
   "metadata": {},
   "outputs": [],
   "source": [
    "import numpy as np\n",
    "import matplotlib.pyplot as plt"
   ]
  },
  {
   "cell_type": "code",
   "execution_count": 2,
   "id": "18389017-8e95-42be-ad5d-a7ec8dfead80",
   "metadata": {},
   "outputs": [],
   "source": [
    "X1 = np.random.randint(1,9,10)\n",
    "X2 = np.random.randint(1,5,10)"
   ]
  },
  {
   "cell_type": "code",
   "execution_count": 3,
   "id": "27848f1d-7d47-4775-9182-5ee60205b19a",
   "metadata": {},
   "outputs": [
    {
     "data": {
      "text/plain": [
       "<matplotlib.collections.PathCollection at 0x1f259e5fbc0>"
      ]
     },
     "execution_count": 3,
     "metadata": {},
     "output_type": "execute_result"
    },
    {
     "data": {
      "image/png": "[encoded data removed]",
      "text/plain": [
       "<Figure size 640x480 with 1 Axes>"
      ]
     },
     "metadata": {},
     "output_type": "display_data"
    }
   ],
   "source": [
    "plt.scatter(X1, X2)"
   ]
  },
  {
   "cell_type": "code",
   "execution_count": 4,
   "id": "074aaf32-d07e-4925-ab01-541dcc2f45e0",
   "metadata": {},
   "outputs": [
    {
     "data": {
      "text/plain": [
       "array([3, 8, 7, 1, 8, 4, 7, 7, 8, 6])"
      ]
     },
     "execution_count": 4,
     "metadata": {},
     "output_type": "execute_result"
    }
   ],
   "source": [
    "X1"
   ]
  },
  {
   "cell_type": "code",
   "execution_count": 5,
   "id": "9a22be2e-99b1-4316-af65-513e86c49449",
   "metadata": {},
   "outputs": [
    {
     "data": {
      "text/plain": [
       "array([3, 3, 3, 2, 1, 2, 2, 4, 3, 2])"
      ]
     },
     "execution_count": 5,
     "metadata": {},
     "output_type": "execute_result"
    }
   ],
   "source": [
    "X2"
   ]
  },
  {
   "cell_type": "code",
   "execution_count": 6,
   "id": "089f0a57-fe6f-4119-bed3-7f7188701874",
   "metadata": {},
   "outputs": [
    {
     "data": {
      "text/plain": [
       "(5.9, 2.5)"
      ]
     },
     "execution_count": 6,
     "metadata": {},
     "output_type": "execute_result"
    }
   ],
   "source": [
    "X1_mean = X1.mean()\n",
    "X2_mean = X2.mean()\n",
    "X1_mean, X2_mean"
   ]
  },
  {
   "cell_type": "code",
   "execution_count": 7,
   "id": "a4f70784-35f8-42c0-bee9-75fffbbcb309",
   "metadata": {},
   "outputs": [],
   "source": [
    "new_X1 = X1-X1_mean\n",
    "new_X2 = X2-X2_mean"
   ]
  },
  {
   "cell_type": "code",
   "execution_count": 8,
   "id": "8d4639fd-b342-44f5-b589-da9abf550615",
   "metadata": {},
   "outputs": [
    {
     "data": {
      "text/plain": [
       "array([-2.9,  2.1,  1.1, -4.9,  2.1, -1.9,  1.1,  1.1,  2.1,  0.1])"
      ]
     },
     "execution_count": 8,
     "metadata": {},
     "output_type": "execute_result"
    }
   ],
   "source": [
    "new_X1"
   ]
  },
  {
   "cell_type": "code",
   "execution_count": 9,
   "id": "3350666d-c9e7-451b-ac79-3737ba061648",
   "metadata": {},
   "outputs": [
    {
     "data": {
      "text/plain": [
       "array([ 0.5,  0.5,  0.5, -0.5, -1.5, -0.5, -0.5,  1.5,  0.5, -0.5])"
      ]
     },
     "execution_count": 9,
     "metadata": {},
     "output_type": "execute_result"
    }
   ],
   "source": [
    "new_X2"
   ]
  },
  {
   "cell_type": "code",
   "execution_count": 10,
   "id": "534cb52b-a718-46a8-8e8b-af62128e3d44",
   "metadata": {},
   "outputs": [
    {
     "data": {
      "text/plain": [
       "array([[-2.9,  2.1,  1.1, -4.9,  2.1, -1.9,  1.1,  1.1,  2.1,  0.1],\n",
       "       [ 0.5,  0.5,  0.5, -0.5, -1.5, -0.5, -0.5,  1.5,  0.5, -0.5]])"
      ]
     },
     "execution_count": 10,
     "metadata": {},
     "output_type": "execute_result"
    }
   ],
   "source": [
    "data = np.array([new_X1, new_X2])\n",
    "data"
   ]
  },
  {
   "cell_type": "code",
   "execution_count": 11,
   "id": "e0130858-6685-46a0-86da-689a73f768be",
   "metadata": {},
   "outputs": [
    {
     "data": {
      "text/plain": [
       "array([[-2.9,  0.5],\n",
       "       [ 2.1,  0.5],\n",
       "       [ 1.1,  0.5],\n",
       "       [-4.9, -0.5],\n",
       "       [ 2.1, -1.5],\n",
       "       [-1.9, -0.5],\n",
       "       [ 1.1, -0.5],\n",
       "       [ 1.1,  1.5],\n",
       "       [ 2.1,  0.5],\n",
       "       [ 0.1, -0.5]])"
      ]
     },
     "execution_count": 11,
     "metadata": {},
     "output_type": "execute_result"
    }
   ],
   "source": [
    "data = np.array([new_X1, new_X2]).T\n",
    "data"
   ]
  },
  {
   "cell_type": "code",
   "execution_count": 12,
   "id": "6b40b479-acb6-4a2a-8ea9-9c018deb2974",
   "metadata": {},
   "outputs": [
    {
     "data": {
      "text/plain": [
       "2"
      ]
     },
     "execution_count": 12,
     "metadata": {},
     "output_type": "execute_result"
    }
   ],
   "source": [
    "data.ndim"
   ]
  },
  {
   "cell_type": "code",
   "execution_count": 13,
   "id": "67b3208a-2d2b-4918-9549-581272dbe78a",
   "metadata": {},
   "outputs": [
    {
     "data": {
      "text/plain": [
       "array([[5.87777778, 0.27777778],\n",
       "       [0.27777778, 0.72222222]])"
      ]
     },
     "execution_count": 13,
     "metadata": {},
     "output_type": "execute_result"
    }
   ],
   "source": [
    "cov_matrix = np.cov(data.T)\n",
    "cov_matrix"
   ]
  },
  {
   "cell_type": "code",
   "execution_count": 14,
   "id": "f95c740d-496e-477d-b855-92ecbd0d6801",
   "metadata": {},
   "outputs": [],
   "source": [
    "eig_value, eig_vec = np.linalg.eig(cov_matrix)"
   ]
  },
  {
   "cell_type": "code",
   "execution_count": 15,
   "id": "7811d04d-041f-4aa2-9532-0677af6898b8",
   "metadata": {},
   "outputs": [
    {
     "data": {
      "text/plain": [
       "array([5.89270106, 0.70729894])"
      ]
     },
     "execution_count": 15,
     "metadata": {},
     "output_type": "execute_result"
    }
   ],
   "source": [
    "eig_value"
   ]
  },
  {
   "cell_type": "code",
   "execution_count": 16,
   "id": "b0993f74-7679-473b-9264-a7cd76f321e1",
   "metadata": {},
   "outputs": [
    {
     "data": {
      "text/plain": [
       "array([[ 0.99855999, -0.05364644],\n",
       "       [ 0.05364644,  0.99855999]])"
      ]
     },
     "execution_count": 16,
     "metadata": {},
     "output_type": "execute_result"
    }
   ],
   "source": [
    "eig_vec"
   ]
  },
  {
   "cell_type": "code",
   "execution_count": 17,
   "id": "81ba6016-4e84-4158-a073-a93917d0ca90",
   "metadata": {},
   "outputs": [
    {
     "data": {
      "text/plain": [
       "array([[-2.86900076,  0.65485467],\n",
       "       [ 2.1237992 ,  0.38662248],\n",
       "       [ 1.12523921,  0.44026891],\n",
       "       [-4.91976719, -0.23641245],\n",
       "       [ 2.01650633, -1.61049751],\n",
       "       [-1.92408721, -0.39735176],\n",
       "       [ 1.07159277, -0.55829108],\n",
       "       [ 1.17888565,  1.43882891],\n",
       "       [ 2.1237992 ,  0.38662248],\n",
       "       [ 0.07303278, -0.50464464]])"
      ]
     },
     "execution_count": 17,
     "metadata": {},
     "output_type": "execute_result"
    }
   ],
   "source": [
    "pc = np.dot(data, eig_vec)\n",
    "pc"
   ]
  },
  {
   "cell_type": "code",
   "execution_count": 18,
   "id": "6468182b-4ba3-40ed-8bf8-42a9088526cd",
   "metadata": {},
   "outputs": [],
   "source": [
    "### Using sklearn"
   ]
  },
  {
   "cell_type": "code",
   "execution_count": 19,
   "id": "d29fdcb6-5f7c-4902-b54d-cf703f3fde28",
   "metadata": {},
   "outputs": [],
   "source": [
    "from sklearn.decomposition import PCA"
   ]
  },
  {
   "cell_type": "code",
   "execution_count": 20,
   "id": "10b8ab83-4ddb-429d-9b72-f830fe9f1a5d",
   "metadata": {},
   "outputs": [],
   "source": [
    "pc1 = PCA(n_components=1)"
   ]
  },
  {
   "cell_type": "code",
   "execution_count": 21,
   "id": "6dd7d25a-3469-439d-9392-2f1a61a2fcd3",
   "metadata": {},
   "outputs": [],
   "source": [
    "new_data = np.array([X1,X2]).T"
   ]
  },
  {
   "cell_type": "code",
   "execution_count": 22,
   "id": "fbf9af57-bc50-4836-9dfa-0d5fe3707860",
   "metadata": {},
   "outputs": [
    {
     "data": {
      "text/plain": [
       "array([[ 2.86900076],\n",
       "       [-2.1237992 ],\n",
       "       [-1.12523921],\n",
       "       [ 4.91976719],\n",
       "       [-2.01650633],\n",
       "       [ 1.92408721],\n",
       "       [-1.07159277],\n",
       "       [-1.17888565],\n",
       "       [-2.1237992 ],\n",
       "       [-0.07303278]])"
      ]
     },
     "execution_count": 22,
     "metadata": {},
     "output_type": "execute_result"
    }
   ],
   "source": [
    "pc1.fit_transform(new_data)"
   ]
  },
  {
   "cell_type": "code",
   "execution_count": 23,
   "id": "9e5ae073-5aec-4547-a3d7-be836afc0e8b",
   "metadata": {},
   "outputs": [
    {
     "data": {
      "text/plain": [
       "array([[-2.86900076,  0.65485467],\n",
       "       [ 2.1237992 ,  0.38662248],\n",
       "       [ 1.12523921,  0.44026891],\n",
       "       [-4.91976719, -0.23641245],\n",
       "       [ 2.01650633, -1.61049751],\n",
       "       [-1.92408721, -0.39735176],\n",
       "       [ 1.07159277, -0.55829108],\n",
       "       [ 1.17888565,  1.43882891],\n",
       "       [ 2.1237992 ,  0.38662248],\n",
       "       [ 0.07303278, -0.50464464]])"
      ]
     },
     "execution_count": 23,
     "metadata": {},
     "output_type": "execute_result"
    }
   ],
   "source": [
    "pc"
   ]
  },
  {
   "cell_type": "code",
   "execution_count": 24,
   "id": "53cc11de-5a0c-4a4e-8e5b-2cb2b397c675",
   "metadata": {},
   "outputs": [
    {
     "data": {
      "text/plain": [
       "array([[-0.99855999, -0.05364644]])"
      ]
     },
     "execution_count": 24,
     "metadata": {},
     "output_type": "execute_result"
    }
   ],
   "source": [
    "pc1.components_"
   ]
  }
 ],
 "metadata": {
  "kernelspec": {
   "display_name": "Python 3 (ipykernel)",
   "language": "python",
   "name": "python3"
  },
  "language_info": {
   "codemirror_mode": {
    "name": "ipython",
    "version": 3
   },
   "file_extension": ".py",
   "mimetype": "text/x-python",
   "name": "python",
   "nbconvert_exporter": "python",
   "pygments_lexer": "ipython3",
   "version": "3.12.0"
  }
 },
 "nbformat": 4,
 "nbformat_minor": 5
}
